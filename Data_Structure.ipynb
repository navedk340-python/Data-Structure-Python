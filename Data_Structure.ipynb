{
  "nbformat": 4,
  "nbformat_minor": 0,
  "metadata": {
    "colab": {
      "provenance": []
    },
    "kernelspec": {
      "name": "python3",
      "display_name": "Python 3"
    },
    "language_info": {
      "name": "python"
    }
  },
  "cells": [
    {
      "cell_type": "markdown",
      "source": [
        "#Theory Question"
      ],
      "metadata": {
        "id": "9WW5Pj3ED9ZN"
      }
    },
    {
      "cell_type": "markdown",
      "source": [
        "**Q1. What are data structures, and why are they important?**\n",
        "\n",
        "Ans1- A way of organizing and storing data so that it can be accessed and manipulated effeciently thats why they are very important.\n",
        "\n",
        "**Q2. Explain the difference between mutable and immutable data types with examples?**\n",
        "\n",
        "Ans2- Mutable Data Types:\n",
        "\n",
        "Mutable data types are those whose values can be changed or altered after they have been created. When a mutable object is modified, the change occurs directly on the existing object in memory; a new object is not created.\n",
        "Examples: Lists, dictionaries, sets in Python.\n",
        "Example (Python List):\n",
        "\n",
        "Immutable Data Types:\n",
        "\n",
        "Immutable data types are those whose values cannot be changed after they have been created. Any operation that appears to modify an immutable object actually results in the creation of a new object with the desired changes, while the original object remains unchanged.\n",
        "Examples: Numbers (integers, floats), strings, tuples, frozen sets in Python.\n",
        "Example (Python String)\n",
        "\n",
        "**Q3. What are the main differences between lists and tuples in Python**?\n",
        "\n",
        "Ans3- List are mutable and tuples are immutable.\n",
        "\n",
        "**Q4. Describe how dictionaries store data?**\n",
        "\n",
        "Ans4- Dictionaries store the data in the form of key value pair.\n",
        "\n",
        "**Q5. Why might you use a set instead of a list in Python?**\n",
        "\n",
        "Ans5- Set shows only unique elements and in case of list which shows all the elements while its repeat at so much time.\n",
        "\n",
        "**Q6. What is a string in Python, and how is it different from a list?**\n",
        "\n",
        "Ans6- String is a sequence of character represent and manipulate textual data while list contains hetrogeneous data.\n",
        "\n",
        "**Q7. How do tuples ensure data integrity in Python?**\n",
        "\n",
        "Ans7- Tuples in Python  ensure data integrity primarily through their immutability. This means that once a tuple is created, its elements cannot be modified, added, or removed. This characteristic provides several benefits for maintaining data integrity.\n",
        "\n",
        "**Q8. What is a hash table, and how does it relate to dictionaries in Python?**\n",
        "\n",
        "Ans8- A hash table, also known as a hash map or associative array, is a data structure that stores key-value pairs. It uses a hash function to map keys to indices in an underlying array, allowing for efficient retrieval, insertion, and deletion of data.\n",
        "\n",
        "**Q9. Can lists contain different data types in Python?**\n",
        "\n",
        "Ans9- Yes, lists contains different data types in python.\n",
        "\n",
        "**Q10. Explain why strings are immutable in Python?**\n",
        "\n",
        "Ans10- Python strings are immutable, meaning their content cannot be changed after creation.\n",
        "\n",
        "Safety and Consistency: Immutability ensures that a string's value remains constant throughout its lifetime.\n",
        "\n",
        "**Q11. What advantages do dictionaries offer over lists for certain tasks?**\n",
        "\n",
        "Ans 11- Dictionaries offer faster data retrieval and more readable code for tasks that involve looking up values by a specific identifier, while lists are better for ordered collections and simple sequences. The main advantages of dictionaries are their ability to quickly find a value using a unique key, which is more efficient than searching through a list, and their use of key-value pairs that can make code easier to understand and maintain.\n",
        "\n",
        "**Q12. Describe a scenario where using a tuple would be preferable over a list?**\n",
        "\n",
        "Ans12- A scenario where using a tuple would be preferable over a list is when representing a fixed, unchangeable collection of related data, especially when that data represents a single entity or record.\n",
        "\n",
        "**Q13. How do sets handle duplicate values in Python?**\n",
        "\n",
        "Ans13- Python sets are designed to store only unique elements, meaning they inherently do not allow duplicate values. When you attempt to add an element that already exists in a set, the set simply ignores the new addition, and the set remains unchanged.\n",
        "\n",
        "**Q14. How does the “in” keyword work differently for lists and dictionaries?**\n",
        "\n",
        "Ans14- The in keyword in Python functions differently for lists and dictionaries primarily in what it checks for and how efficiently it performs that check.\n",
        "\n",
        "**Q15. Can you modify the elements of a tuple? Explain why or why not?**\n",
        "\n",
        "Ans15- No, the elements of a tuple cannot be modified after the tuple has been created. This is because tuples are immutable data structures in Python.\n",
        "\n",
        "**Q16. What is a nested dictionary, and give an example of its use case?**\n",
        "\n",
        "Ans16- A nested dictionary is a dictionary where the values associated with one or more keys are themselves other dictionaries. This structure allows for the creation of hierarchical data, enabling the organization of complex information in a structured and accessible manner.\n",
        "\n",
        "Example of Use Case: Managing Employee Data\n",
        "\n",
        "Consider a scenario where you need to store information about multiple employees in an organization, including their personal details and their assigned projects. A nested dictionary can effectively represent this data.\n",
        "\n",
        "**Q17. Describe the time complexity of accessing elements in a dictionary?**\n",
        "\n",
        "Ans17- Accessing elements in a dictionary, such as retrieving a value by its key, generally has an average time complexity of O(1) (constant time).\n",
        "\n",
        "**Q18.  In what situations are lists preferred over dictionaries?**\n",
        "\n",
        "Ans18- Lists are preferred over dictionaries in several situations, primarily when the order of elements is significant or when elements are accessed by their numerical index.\n",
        "\n",
        "**Q19. Why are dictionaries considered unordered, and how does that affect data retrieval?**\n",
        "\n",
        "Ans19- In many programming languages, dictionaries are considered unordered because they store data in an unpredictable order that is not based on insertion or any other sorting method. Dictionaries are structured for fast lookups using keys, not for preserving the sequence of elements.\n",
        "\n",
        "**Q20. Explain the difference between a list and a dictionary in terms of data retrieval?**\n",
        "\n",
        "Ans20- Lists and dictionaries are fundamental data structures, differing significantly in how data is stored and retrieved.\n",
        "\n",
        "Lists:\n",
        "\n",
        "Ordered Collection: Lists maintain the order of elements as they are added.\n",
        "Indexed Access: Data retrieval relies on numerical indices, starting from 0. To access an element, its position within the list must be known.\n",
        "\n",
        "Sequential Search (for values): Finding a specific value without knowing its index typically involves iterating through the list, which can be inefficient for large lists (linear time complexity, O(n)).\n",
        "\n"
      ],
      "metadata": {
        "id": "vOGai_lGFCJi"
      }
    },
    {
      "cell_type": "markdown",
      "source": [
        "#Practical Questions"
      ],
      "metadata": {
        "id": "gZUkpuKaD_jy"
      }
    },
    {
      "cell_type": "code",
      "source": [
        "# Q1. Write a code to create a string with your name and print it?\n",
        "(print(\"Naved Khan\"))"
      ],
      "metadata": {
        "colab": {
          "base_uri": "https://localhost:8080/"
        },
        "id": "7iMKcdrWE97a",
        "outputId": "bd079aa9-15fd-4f20-cbd9-a557f8f3203e"
      },
      "execution_count": 5,
      "outputs": [
        {
          "output_type": "stream",
          "name": "stdout",
          "text": [
            "Naved Khan\n"
          ]
        }
      ]
    },
    {
      "cell_type": "code",
      "source": [
        "# Q2. Write a code to find the length of the string \"Hello World\"?\n",
        "(print(len(\"Hello World\")))"
      ],
      "metadata": {
        "colab": {
          "base_uri": "https://localhost:8080/"
        },
        "id": "gyOjIGRrE8Sy",
        "outputId": "0a19a480-bc2a-4c3d-ec98-8a0e847ac410"
      },
      "execution_count": 4,
      "outputs": [
        {
          "output_type": "stream",
          "name": "stdout",
          "text": [
            "11\n"
          ]
        }
      ]
    },
    {
      "cell_type": "code",
      "source": [
        "# Q3. Write a code to slice the first 3 characters from the string \"Python Programming\"?\n",
        "string = \"Python Programming\"\n",
        "print(string[0:3])"
      ],
      "metadata": {
        "colab": {
          "base_uri": "https://localhost:8080/"
        },
        "id": "73LUrECeFU_n",
        "outputId": "74b8f8db-8c96-4823-8472-1323f7fee0e1"
      },
      "execution_count": 6,
      "outputs": [
        {
          "output_type": "stream",
          "name": "stdout",
          "text": [
            "Pyt\n"
          ]
        }
      ]
    },
    {
      "cell_type": "code",
      "source": [
        "# Q4. Write a code to convert the string \"hello\" to uppercase?\n",
        "original_string = \"hello\"\n",
        "uppercase_string = original_string.upper()\n",
        "print(uppercase_string)\n",
        "\n"
      ],
      "metadata": {
        "colab": {
          "base_uri": "https://localhost:8080/"
        },
        "id": "LiLj51pnHuvk",
        "outputId": "326cb2ec-83c4-4adc-f5e7-8ba714c6d00d"
      },
      "execution_count": 11,
      "outputs": [
        {
          "output_type": "stream",
          "name": "stdout",
          "text": [
            "HELLO\n"
          ]
        }
      ]
    },
    {
      "cell_type": "code",
      "source": [
        "# Q5.  Write a code to replace the word \"apple\" with \"orange\" in the string \"I like apple\"?\n",
        "original_string = \"I like apple\"\n",
        "new_string = original_string.replace(\"apple\", \"orange\")\n",
        "print(new_string)"
      ],
      "metadata": {
        "colab": {
          "base_uri": "https://localhost:8080/"
        },
        "id": "iQVwhOTfH_d0",
        "outputId": "23007d9c-7fea-4105-e0f6-37cd032ef8ce"
      },
      "execution_count": 12,
      "outputs": [
        {
          "output_type": "stream",
          "name": "stdout",
          "text": [
            "I like orange\n"
          ]
        }
      ]
    },
    {
      "cell_type": "code",
      "source": [
        "# Q6. Write a code to create a list with numbers 1 to 5 and print it?\n",
        "lis = [1,2,3,4,5]\n",
        "lis"
      ],
      "metadata": {
        "colab": {
          "base_uri": "https://localhost:8080/"
        },
        "id": "EzLCnPXEJBEV",
        "outputId": "352251df-3335-4a38-dc19-982eea5b33ab"
      },
      "execution_count": 13,
      "outputs": [
        {
          "output_type": "execute_result",
          "data": {
            "text/plain": [
              "[1, 2, 3, 4, 5]"
            ]
          },
          "metadata": {},
          "execution_count": 13
        }
      ]
    },
    {
      "cell_type": "code",
      "source": [
        "# Q7. Write a code to append the number 10 to the list [1, 2, 3, 4]?\n",
        "lis = [1,2,3,4]\n",
        "lis.append(10)\n",
        "lis"
      ],
      "metadata": {
        "colab": {
          "base_uri": "https://localhost:8080/"
        },
        "id": "J3ZJV3eCJXXv",
        "outputId": "3e65c291-4bfd-4588-dfa2-d1daf20008b6"
      },
      "execution_count": 14,
      "outputs": [
        {
          "output_type": "execute_result",
          "data": {
            "text/plain": [
              "[1, 2, 3, 4, 10]"
            ]
          },
          "metadata": {},
          "execution_count": 14
        }
      ]
    },
    {
      "cell_type": "code",
      "source": [
        "# Q8. Write a code to remove the number 3 from the list [1, 2, 3, 4, 5]?\n",
        "lis = [1,2,3,4,5]\n",
        "lis.remove(3)\n",
        "lis"
      ],
      "metadata": {
        "colab": {
          "base_uri": "https://localhost:8080/"
        },
        "id": "OQstl05jWP9r",
        "outputId": "18bd81dc-cb86-4d89-f9c3-a605c8503385"
      },
      "execution_count": 15,
      "outputs": [
        {
          "output_type": "execute_result",
          "data": {
            "text/plain": [
              "[1, 2, 4, 5]"
            ]
          },
          "metadata": {},
          "execution_count": 15
        }
      ]
    },
    {
      "cell_type": "code",
      "source": [
        "# Q9. Write a code to access the second element in the list ['a', 'b', 'c', 'd']?\n",
        "lis = ['a', 'b', 'c', 'd']\n",
        "lis[1]"
      ],
      "metadata": {
        "colab": {
          "base_uri": "https://localhost:8080/",
          "height": 35
        },
        "id": "_UZwBoVlWj8_",
        "outputId": "def0a51d-307f-4e21-ee7f-1496186d2a54"
      },
      "execution_count": 16,
      "outputs": [
        {
          "output_type": "execute_result",
          "data": {
            "text/plain": [
              "'b'"
            ],
            "application/vnd.google.colaboratory.intrinsic+json": {
              "type": "string"
            }
          },
          "metadata": {},
          "execution_count": 16
        }
      ]
    },
    {
      "cell_type": "code",
      "source": [
        "# Q10.  Write a code to reverse the list [10, 20, 30, 40, 50]?\n",
        "lis = [10, 20, 30, 40, 50]\n",
        "lis[::-1]"
      ],
      "metadata": {
        "colab": {
          "base_uri": "https://localhost:8080/"
        },
        "id": "6ab9EjAMWxBJ",
        "outputId": "6a642e77-abf6-4edd-a254-5b1f152ed8fc"
      },
      "execution_count": 17,
      "outputs": [
        {
          "output_type": "execute_result",
          "data": {
            "text/plain": [
              "[50, 40, 30, 20, 10]"
            ]
          },
          "metadata": {},
          "execution_count": 17
        }
      ]
    },
    {
      "cell_type": "code",
      "source": [
        "# Q11.  Write a code to create a tuple with the elements 100, 200, 300 and print it?\n",
        "original_tuple = (100, 200, 300)\n",
        "print(original_tuple)"
      ],
      "metadata": {
        "colab": {
          "base_uri": "https://localhost:8080/"
        },
        "id": "EMRwLIRHW6TX",
        "outputId": "8e225e89-ab67-4e54-f385-591fe95d409e"
      },
      "execution_count": 18,
      "outputs": [
        {
          "output_type": "stream",
          "name": "stdout",
          "text": [
            "(100, 200, 300)\n"
          ]
        }
      ]
    },
    {
      "cell_type": "code",
      "source": [
        "# Q12.  Write a code to access the second-to-last element of the tuple ('red', 'green', 'blue', 'yellow')?\n",
        "original_tuple = ('red', 'green', 'blue', 'yellow')\n",
        "print(original_tuple[-2])"
      ],
      "metadata": {
        "colab": {
          "base_uri": "https://localhost:8080/"
        },
        "id": "AciOizE4XPX_",
        "outputId": "ec157a95-788b-4c3b-c4ec-7f20811e8626"
      },
      "execution_count": 19,
      "outputs": [
        {
          "output_type": "stream",
          "name": "stdout",
          "text": [
            "blue\n"
          ]
        }
      ]
    },
    {
      "cell_type": "code",
      "source": [
        "# Q13. Write a code to find the minimum number in the tuple (10, 20, 5, 15)?\n",
        "original_tuple = (10, 20, 5, 15)\n",
        "print(min(original_tuple))"
      ],
      "metadata": {
        "colab": {
          "base_uri": "https://localhost:8080/"
        },
        "id": "_9a9ls08XnDT",
        "outputId": "f37bb929-9a25-4ca6-a373-1db1ae95d5af"
      },
      "execution_count": 20,
      "outputs": [
        {
          "output_type": "stream",
          "name": "stdout",
          "text": [
            "5\n"
          ]
        }
      ]
    },
    {
      "cell_type": "code",
      "source": [
        "# Q14.  Write a code to find the index of the element \"cat\" in the tuple ('dog', 'cat', 'rabbit')?\n",
        "original_tuple = ('dog', 'cat', 'rabbit')\n",
        "print(original_tuple.index('cat'))"
      ],
      "metadata": {
        "colab": {
          "base_uri": "https://localhost:8080/"
        },
        "id": "5tFfTP6LXwyg",
        "outputId": "4c415ae9-ec9c-40d0-e916-8e83ff1ffbbe"
      },
      "execution_count": 21,
      "outputs": [
        {
          "output_type": "stream",
          "name": "stdout",
          "text": [
            "1\n"
          ]
        }
      ]
    },
    {
      "cell_type": "code",
      "source": [
        "# Q15. Write a code to create a tuple containing three different fruits and check if \"kiwi\" is in it?\n",
        "original_tuple = ('apple', 'banana', 'orange')\n",
        "print(\"kiwi\" in original_tuple)"
      ],
      "metadata": {
        "colab": {
          "base_uri": "https://localhost:8080/"
        },
        "id": "hNlkzEiEX7v_",
        "outputId": "df0424f1-5ec1-4287-bb07-baba1ab3bed0"
      },
      "execution_count": 22,
      "outputs": [
        {
          "output_type": "stream",
          "name": "stdout",
          "text": [
            "False\n"
          ]
        }
      ]
    },
    {
      "cell_type": "code",
      "source": [
        "# Q16,  Write a code to create a set with the elements 'a', 'b', 'c' and print it?\n",
        "original_set = {'a', 'b', 'c'}\n",
        "print(original_set)"
      ],
      "metadata": {
        "colab": {
          "base_uri": "https://localhost:8080/"
        },
        "id": "ln-PabuTYPjv",
        "outputId": "270ae5cd-54e4-4e3c-ed19-f239c35c3a2b"
      },
      "execution_count": 23,
      "outputs": [
        {
          "output_type": "stream",
          "name": "stdout",
          "text": [
            "{'c', 'a', 'b'}\n"
          ]
        }
      ]
    },
    {
      "cell_type": "code",
      "source": [
        "# Q17.  Write a code to clear all elements from the set {1, 2, 3, 4, 5}?\n",
        "original_set = {1, 2, 3, 4, 5}\n",
        "original_set.clear()\n",
        "print(original_set)"
      ],
      "metadata": {
        "colab": {
          "base_uri": "https://localhost:8080/"
        },
        "id": "U6RCpTgNYaoF",
        "outputId": "dc49b5af-12d6-468a-f759-5a327e0b4e1c"
      },
      "execution_count": 24,
      "outputs": [
        {
          "output_type": "stream",
          "name": "stdout",
          "text": [
            "set()\n"
          ]
        }
      ]
    },
    {
      "cell_type": "code",
      "source": [
        "# Q18.  Write a code to remove the element 4 from the set {1, 2, 3, 4}?\n",
        "original_set = {1, 2, 3, 4}\n",
        "original_set.remove(4)\n",
        "print(original_set)"
      ],
      "metadata": {
        "colab": {
          "base_uri": "https://localhost:8080/"
        },
        "id": "vgH4GMCGYkuM",
        "outputId": "d1756b7c-3305-4843-ada6-7d1044edfa13"
      },
      "execution_count": 25,
      "outputs": [
        {
          "output_type": "stream",
          "name": "stdout",
          "text": [
            "{1, 2, 3}\n"
          ]
        }
      ]
    },
    {
      "cell_type": "code",
      "source": [
        "# Q19. Write a code to find the union of two sets {1, 2, 3} and {3, 4, 5}?\n",
        "set1 = {1, 2, 3}\n",
        "set2 = {3, 4, 5}\n",
        "set1 | set2"
      ],
      "metadata": {
        "colab": {
          "base_uri": "https://localhost:8080/"
        },
        "id": "AJwDRd3dYzJJ",
        "outputId": "17132d5b-15ba-4ded-96d0-74f4360520e3"
      },
      "execution_count": 27,
      "outputs": [
        {
          "output_type": "execute_result",
          "data": {
            "text/plain": [
              "{1, 2, 3, 4, 5}"
            ]
          },
          "metadata": {},
          "execution_count": 27
        }
      ]
    },
    {
      "cell_type": "code",
      "source": [
        "# Q20.  Write a code to find the intersection of two sets {1, 2, 3} and {2, 3, 4}?\n",
        "set1 = {1,2,3}\n",
        "set2 = {2,3,4}\n",
        "set1 & set2"
      ],
      "metadata": {
        "colab": {
          "base_uri": "https://localhost:8080/"
        },
        "id": "PfhPeHgcY7w3",
        "outputId": "b8b77e74-bd96-44da-a9ac-59037da5f19f"
      },
      "execution_count": 28,
      "outputs": [
        {
          "output_type": "execute_result",
          "data": {
            "text/plain": [
              "{2, 3}"
            ]
          },
          "metadata": {},
          "execution_count": 28
        }
      ]
    },
    {
      "cell_type": "code",
      "source": [
        "# Q21. Write a code to create a dictionary with the keys \"name\", \"age\", and \"city\", and print it?\n",
        "d = {'name':'Naved', 'age': 27, 'city': 'Moradabad'}\n",
        "d"
      ],
      "metadata": {
        "colab": {
          "base_uri": "https://localhost:8080/"
        },
        "id": "Mc3XOGopZX9s",
        "outputId": "b008e1f3-b864-4b5e-dd48-dc6999b04497"
      },
      "execution_count": 29,
      "outputs": [
        {
          "output_type": "execute_result",
          "data": {
            "text/plain": [
              "{'name': 'Naved', 'age': 27, 'city': 'Moradabad'}"
            ]
          },
          "metadata": {},
          "execution_count": 29
        }
      ]
    },
    {
      "cell_type": "code",
      "source": [
        "# Q22.  Write a code to add a new key-value pair \"country\": \"USA\" to the dictionary {'name': 'John', 'age': 25}?\n",
        "d = {\"name\": 'John', 'age': 25}\n",
        "d1 = {\"country\": \"USA\"}\n",
        "d.update(d1)\n",
        "d"
      ],
      "metadata": {
        "colab": {
          "base_uri": "https://localhost:8080/"
        },
        "id": "gD-Qx_b0aK39",
        "outputId": "4c92d4b2-13aa-414f-c0f9-c54e01391a4b"
      },
      "execution_count": 30,
      "outputs": [
        {
          "output_type": "execute_result",
          "data": {
            "text/plain": [
              "{'name': 'John', 'age': 25, 'country': 'USA'}"
            ]
          },
          "metadata": {},
          "execution_count": 30
        }
      ]
    },
    {
      "cell_type": "code",
      "source": [
        "# Q23. Write a code to access the value associated with the key \"name\" in the dictionary {'name': 'Alice', 'age': 30}?\n",
        "d = {'name': 'Alice', 'age': 30}\n",
        "d['name']"
      ],
      "metadata": {
        "colab": {
          "base_uri": "https://localhost:8080/",
          "height": 35
        },
        "id": "Tt4jKCp8bQAe",
        "outputId": "1b5ecc58-f731-43a6-840d-f6243589b4e0"
      },
      "execution_count": 31,
      "outputs": [
        {
          "output_type": "execute_result",
          "data": {
            "text/plain": [
              "'Alice'"
            ],
            "application/vnd.google.colaboratory.intrinsic+json": {
              "type": "string"
            }
          },
          "metadata": {},
          "execution_count": 31
        }
      ]
    },
    {
      "cell_type": "code",
      "source": [
        "# Q24.  Write a code to remove the key \"age\" from the dictionary {'name': 'Bob', 'age': 22, 'city': 'New York'}?\n",
        "d = {'name': 'Bob', 'age': 22, 'city': 'New York'}\n",
        "d.pop('age')\n",
        "d\n",
        "#"
      ],
      "metadata": {
        "colab": {
          "base_uri": "https://localhost:8080/"
        },
        "id": "7Jj6mg07bfcu",
        "outputId": "8e382a99-9cb1-48cb-bee9-b23b0acc62b3"
      },
      "execution_count": 32,
      "outputs": [
        {
          "output_type": "execute_result",
          "data": {
            "text/plain": [
              "{'name': 'Bob', 'city': 'New York'}"
            ]
          },
          "metadata": {},
          "execution_count": 32
        }
      ]
    },
    {
      "cell_type": "code",
      "source": [
        "# Q25. Write a code to check if the key \"city\" exists in the dictionary {'name': 'Alice', 'city': 'Paris'}?\n",
        "d = {'name': 'Alice', 'city': 'Paris'}\n",
        "print('city' in d)\n",
        "#"
      ],
      "metadata": {
        "colab": {
          "base_uri": "https://localhost:8080/"
        },
        "id": "gVRR1sAxbp0S",
        "outputId": "b3db59ed-4d5e-4135-ad5e-195eb813647a"
      },
      "execution_count": 33,
      "outputs": [
        {
          "output_type": "stream",
          "name": "stdout",
          "text": [
            "True\n"
          ]
        }
      ]
    },
    {
      "cell_type": "code",
      "source": [
        "# Q26. Write a code to create a list, a tuple, and a dictionary, and print them all?\n",
        "lis = [1,2,3,4,5]\n",
        "print(lis)\n",
        "tup = (1,2,3,4,5)\n",
        "print(tup)\n",
        "d = {'name':'Naved', 'age': 27, 'city': 'Moradabad'}\n",
        "d"
      ],
      "metadata": {
        "colab": {
          "base_uri": "https://localhost:8080/"
        },
        "id": "ay3O0OPlb0uB",
        "outputId": "3ba7e186-d420-47b9-9eea-ba390a1bfa8f"
      },
      "execution_count": 34,
      "outputs": [
        {
          "output_type": "stream",
          "name": "stdout",
          "text": [
            "[1, 2, 3, 4, 5]\n",
            "(1, 2, 3, 4, 5)\n"
          ]
        },
        {
          "output_type": "execute_result",
          "data": {
            "text/plain": [
              "{'name': 'Naved', 'age': 27, 'city': 'Moradabad'}"
            ]
          },
          "metadata": {},
          "execution_count": 34
        }
      ]
    },
    {
      "cell_type": "code",
      "source": [
        "# Q27. Write a code to create a list of 5 random numbers between 1 and 100, sort it in ascending order, and print the\n",
        "result?\n",
        "import random\n",
        "random_numbers = [random.randint(1, 100) for _ in range(5)]\n",
        "random_numbers.sort()\n",
        "print(random_numbers)"
      ],
      "metadata": {
        "colab": {
          "base_uri": "https://localhost:8080/"
        },
        "id": "12kPwBYucKax",
        "outputId": "bb8a1460-2a9d-4063-e283-aa5823eeea06"
      },
      "execution_count": 38,
      "outputs": [
        {
          "output_type": "stream",
          "name": "stdout",
          "text": [
            "Object `result` not found.\n",
            "[3, 5, 23, 42, 44]\n"
          ]
        }
      ]
    },
    {
      "cell_type": "code",
      "source": [
        "# Q28. Write a code to create a list with strings and print the element at the third index?\n",
        "lis = ['a','b','c','d','e']\n",
        "lis[3]"
      ],
      "metadata": {
        "colab": {
          "base_uri": "https://localhost:8080/",
          "height": 35
        },
        "id": "e5Jp21gyci1s",
        "outputId": "0f5bbcc2-3410-4415-dcdc-789a895e7447"
      },
      "execution_count": 39,
      "outputs": [
        {
          "output_type": "execute_result",
          "data": {
            "text/plain": [
              "'d'"
            ],
            "application/vnd.google.colaboratory.intrinsic+json": {
              "type": "string"
            }
          },
          "metadata": {},
          "execution_count": 39
        }
      ]
    },
    {
      "cell_type": "code",
      "source": [
        "# Q29.  Write a code to combine two dictionaries into one and print the result?\n",
        "d = {'name':'Naved', 'age': 27, 'city': 'Moradabad'}\n",
        "d1 = {'class':4, 'height': 28, 'country': 'India'}\n",
        "d.update(d1)\n",
        "d"
      ],
      "metadata": {
        "colab": {
          "base_uri": "https://localhost:8080/"
        },
        "id": "_l_30D6WdSzT",
        "outputId": "a094beb7-a0e0-42e2-8ee6-309d140f182a"
      },
      "execution_count": 44,
      "outputs": [
        {
          "output_type": "execute_result",
          "data": {
            "text/plain": [
              "{'name': 'Naved',\n",
              " 'age': 27,\n",
              " 'city': 'Moradabad',\n",
              " 'class': 4,\n",
              " 'height': 28,\n",
              " 'country': 'India'}"
            ]
          },
          "metadata": {},
          "execution_count": 44
        }
      ]
    },
    {
      "cell_type": "code",
      "source": [
        "# Q30. Write a code to convert a list of strings into a set?\n",
        "lis = ['a','b','c','d','e']\n",
        "set(lis)"
      ],
      "metadata": {
        "colab": {
          "base_uri": "https://localhost:8080/"
        },
        "id": "Mm6LddjQdjBN",
        "outputId": "19b05064-43d4-4d9d-c370-95b05d877571"
      },
      "execution_count": 45,
      "outputs": [
        {
          "output_type": "execute_result",
          "data": {
            "text/plain": [
              "{'a', 'b', 'c', 'd', 'e'}"
            ]
          },
          "metadata": {},
          "execution_count": 45
        }
      ]
    },
    {
      "cell_type": "code",
      "source": [],
      "metadata": {
        "id": "uPxpDUkleBra"
      },
      "execution_count": null,
      "outputs": []
    }
  ]
}